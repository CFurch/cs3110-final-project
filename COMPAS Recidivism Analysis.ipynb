{
 "cells": [
  {
   "cell_type": "code",
   "execution_count": 2,
   "id": "f9c6a3fd-62f1-468f-bb79-846914bbdddb",
   "metadata": {},
   "outputs": [],
   "source": [
    "import pandas as pd\n",
    "import numpy as np\n",
    "\n",
    "compas = pd.read_csv('compas-scores-parsed.csv')"
   ]
  },
  {
   "cell_type": "code",
   "execution_count": null,
   "id": "25284d73-ac99-42d8-8779-3a81f8c0c398",
   "metadata": {},
   "outputs": [],
   "source": []
  }
 ],
 "metadata": {
  "kernelspec": {
   "display_name": "Python 3 (ipykernel)",
   "language": "python",
   "name": "python3"
  },
  "language_info": {
   "codemirror_mode": {
    "name": "ipython",
    "version": 3
   },
   "file_extension": ".py",
   "mimetype": "text/x-python",
   "name": "python",
   "nbconvert_exporter": "python",
   "pygments_lexer": "ipython3",
   "version": "3.12.3"
  }
 },
 "nbformat": 4,
 "nbformat_minor": 5
}
