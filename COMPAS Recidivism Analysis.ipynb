{
 "cells": [
  {
   "cell_type": "code",
   "execution_count": 208,
   "id": "f9c6a3fd-62f1-468f-bb79-846914bbdddb",
   "metadata": {},
   "outputs": [],
   "source": [
    "import pandas as pd\n",
    "import numpy as np\n",
    "import random\n",
    "from scipy import stats\n",
    "import matplotlib.pyplot as plt\n",
    "\n",
    "def laplace_mech(v, sensitivity, epsilon):\n",
    "    return v + np.random.laplace(loc=0, scale=sensitivity / epsilon)\n",
    "\n",
    "def gaussian_mech(v, sensitivity, epsilon, delta):\n",
    "    return v + np.random.normal(loc=0, scale=sensitivity * np.sqrt(2*np.log(1.25/delta)) / epsilon)\n",
    "\n",
    "def gaussian_mech_vec(vec, sensitivity, epsilon, delta):\n",
    "    return [v + np.random.normal(loc=0, scale=sensitivity * np.sqrt(2*np.log(1.25/delta)) / epsilon)\n",
    "            for v in vec]\n",
    "\n",
    "def pct_error(orig, priv):\n",
    "    return float(np.abs(orig - priv)/orig * 100.0)\n",
    "\n",
    "compas = pd.read_csv('cox-violent-parsed.csv')\n",
    "adult = pd.read_csv('adult_with_pii.csv')\n",
    "\n",
    "# Columns to drop: ID, v_screening_date, in_custody, out_custody, priors_count.1, start, end, event\n",
    "# This was used to remove duplicate rows that contained the same person with the same crime so that they were not counted multiple times.\n",
    "compas = compas.drop(['id', 'v_screening_date', 'in_custody', 'out_custody', 'priors_count.1', 'start', 'end', 'event'], axis=1)\n",
    "compas = compas.drop_duplicates()"
   ]
  },
  {
   "cell_type": "code",
   "execution_count": 209,
   "id": "4278f38f-cb54-4b81-882f-4bbf02342973",
   "metadata": {
    "scrolled": true
   },
   "outputs": [],
   "source": [
    "# compas # id column only increments up to 11001 without the fix (technically the 11000th row, starting at 0)"
   ]
  },
  {
   "cell_type": "markdown",
   "id": "73fa6f31-8ebf-4135-bdea-39a78c5bb475",
   "metadata": {},
   "source": [
    "# Alternative DP Definitions\n",
    "The cells below compare the accuracy results of the following differentially private algorithms across the adult and COMPAS datasets."
   ]
  },
  {
   "cell_type": "markdown",
   "id": "f9d2ab98-1adf-4696-be8e-b78e4e9a60f5",
   "metadata": {},
   "source": [
    "## Renyi-Differential Privacy, Zero-Concentrated Differential Privacy, and Epsilon Delta Differential Privacy"
   ]
  },
  {
   "cell_type": "code",
   "execution_count": 210,
   "id": "87436767-57b4-4f49-a67d-9e531d3eb400",
   "metadata": {},
   "outputs": [],
   "source": [
    "# Renyi-Differential Privacy Algorithm\n",
    "# credit to Joe Near for python implementation\n",
    "def gaussian_mech_RDP(val, sensitivity, alpha, epsilon):\n",
    "    sigma = np.sqrt((sensitivity**2 * alpha) / (2 * epsilon))\n",
    "    return val + np.random.normal(loc=0, scale=sigma)\n",
    "\n",
    "# Epsilon-Delta Algorithm\n",
    "def gaussian_mech_EDP(val, sensitivity, epsilon, delta):\n",
    "    return val + np.random.normal(loc=0, scale=sensitivity * np.sqrt(2*np.log(1.25/delta)) / epsilon)\n",
    "\n",
    "# zero-Concentrated Algorithm\n",
    "def gaussian_mech_zCDP(val, sensitivity, rho):\n",
    "    sigma = np.sqrt((sensitivity**2 / (2*rho)))\n",
    "    return val + np.random.normal(loc=0, scale=sigma)\n",
    "\n",
    "# RDP Vector Implementation\n",
    "def gaussian_mech_vec_RDP(vec, sensitivity, alpha, epsilon):\n",
    "    return [gaussian_mech_RDP(v, sensitivity=sensitivity, alpha=alpha, epsilon=epsilon/len(vec)) for v in vec]\n",
    "\n",
    "# RDP Epsilon -> Epsilon Delta Epsilon\n",
    "def rdp_convert(alpha, epsilon_bar, delta):\n",
    "    return epsilon_bar + np.log(1/delta) / (alpha-1)\n",
    "\n",
    "# zCDP Convert -> Epsilon Delta Epsilon\n",
    "def zcdp_convert(rho, delta):\n",
    "    return rho + 2 * np.sqrt(rho * np.log(1/delta))"
   ]
  },
  {
   "cell_type": "markdown",
   "id": "dd3e0398-f15c-4197-8ba5-04a74f684d0f",
   "metadata": {},
   "source": [
    "### Summation"
   ]
  },
  {
   "cell_type": "code",
   "execution_count": 211,
   "id": "850d9c7c-6d99-44ef-81cd-b33012b53f49",
   "metadata": {},
   "outputs": [],
   "source": [
    "def rdp_sum(dataset, sensitivity, alpha, epsilon):\n",
    "    clipped_data = dataset.clip(upper=sensitivity)\n",
    "    # run the query and return the result\n",
    "    return gaussian_mech_RDP(sum(clipped_data), sensitivity=sensitivity, alpha=alpha, epsilon=epsilon)\n",
    "\n",
    "def edp_sum(dataset, sensitivity, epsilon, delta):\n",
    "    clipped_data = dataset.clip(upper=sensitivity)\n",
    "    # run the query and return the result\n",
    "    return gaussian_mech_EDP(sum(clipped_data), sensitivity=sensitivity, epsilon=epsilon, delta=delta)\n",
    "\n",
    "def zcdp_sum(dataset, sensitivity, rho):\n",
    "    clipped_data = dataset.clip(upper=sensitivity)\n",
    "    # run the query and return the result\n",
    "    return gaussian_mech_zCDP(sum(clipped_data), sensitivity=sensitivity, rho=rho)"
   ]
  },
  {
   "cell_type": "code",
   "execution_count": 212,
   "id": "a625bc19-c514-4834-a2c9-5181b680fc6c",
   "metadata": {},
   "outputs": [
    {
     "name": "stdout",
     "output_type": "stream",
     "text": [
      "Adult Dataset:\n",
      "Adult Epsilon-Delta Error: 2.9068305797802507\n",
      "Adult Renyi Error: 0.10008563458317951\n",
      "Adult Zero-Concentrated Error: 0.4184828735442822\n",
      "Compas Dataset:\n",
      "COMPAS Epsilon-Delta Error: 9.663067851927627\n",
      "COMPAS Renyi Error: 0.31938308446051666\n",
      "COMPAS Zero-Concentrated Error: 1.4804414740397707\n"
     ]
    }
   ],
   "source": [
    "epsilon = .01\n",
    "alpha = 5\n",
    "delta = 1e-5\n",
    "rho = .0001\n",
    "b_adult = 100\n",
    "b_compas = 100\n",
    "\n",
    "# Run Tests Here\n",
    "# Adult Dataset\n",
    "adult_real_results = adult['Age'].sum()\n",
    "adult_edp_results = [edp_sum(adult['Age'],sensitivity=b_adult,epsilon=epsilon,delta=delta) for _ in range(100)]\n",
    "adult_rdp_results = [rdp_sum(adult['Age'],sensitivity=b_adult,alpha=alpha,epsilon=epsilon) for _ in range(100)]\n",
    "adult_zcdp_results = [zcdp_sum(adult['Age'],sensitivity=b_adult,rho=rho) for _ in range(100)]\n",
    "\n",
    "# COMPAS Dataset\n",
    "compas_real_results = compas['age'].sum()\n",
    "compas_edp_results = [edp_sum(compas['age'],sensitivity=b_compas,epsilon=epsilon,delta=delta) for _ in range(100)]\n",
    "compas_rdp_results = [rdp_sum(compas['age'],sensitivity=b_compas,alpha=alpha,epsilon=epsilon) for _ in range(100)]\n",
    "compas_zcdp_results = [zcdp_sum(compas['age'],sensitivity=b_compas,rho=rho) for _ in range(100)]\n",
    "\n",
    "\n",
    "# Error Results\n",
    "adult_edp_error = np.sum([pct_error(adult_real_results, result) for result in adult_edp_results])/100\n",
    "adult_rdp_error = np.sum([pct_error(adult_real_results, result) for result in adult_rdp_results])/100\n",
    "adult_zcdp_error = np.sum([pct_error(adult_real_results, result) for result in adult_zcdp_results])/100\n",
    "compas_edp_error = np.sum([pct_error(compas_real_results, result) for result in compas_edp_results])/100\n",
    "compas_rdp_error = np.sum([pct_error(compas_real_results, result) for result in compas_rdp_results])/100\n",
    "compas_zcdp_error = np.sum([pct_error(compas_real_results, result) for result in compas_zcdp_results])/100\n",
    "\n",
    "print(\"Adult Dataset:\")\n",
    "print(\"Adult Epsilon-Delta Error:\",adult_edp_error)\n",
    "print(\"Adult Renyi Error:\",adult_rdp_error)\n",
    "print(\"Adult Zero-Concentrated Error:\",adult_zcdp_error)\n",
    "print(\"Compas Dataset:\")\n",
    "print(\"COMPAS Epsilon-Delta Error:\",compas_edp_error)\n",
    "print(\"COMPAS Renyi Error:\",compas_rdp_error)\n",
    "print(\"COMPAS Zero-Concentrated Error:\",compas_zcdp_error)"
   ]
  },
  {
   "cell_type": "markdown",
   "id": "98d96714-1961-4cff-b516-8969cbf40860",
   "metadata": {},
   "source": [
    "### Count"
   ]
  },
  {
   "cell_type": "code",
   "execution_count": 213,
   "id": "d12c2f85-ddbd-4a67-89e3-7cd7ff11a2e7",
   "metadata": {},
   "outputs": [],
   "source": [
    "def gaussian_mech_RDP(val, sensitivity, alpha, epsilon):\n",
    "    sigma = np.sqrt((sensitivity**2 * alpha) / (2 * epsilon))\n",
    "    return val + np.random.normal(loc=0, scale=sigma)\n",
    "    \n",
    "def rdp_count(dataset, sensitivity, alpha, epsilon):\n",
    "    return gaussian_mech_RDP(dataset, sensitivity=sensitivity, alpha=alpha, epsilon=epsilon)\n",
    "\n",
    "def edp_count(dataset, sensitivity, epsilon, delta):\n",
    "    return gaussian_mech_EDP(dataset, sensitivity=sensitivity, epsilon=epsilon, delta=delta)\n",
    "\n",
    "def zcdp_count(dataset, sensitivity, rho):\n",
    "    return gaussian_mech_zCDP(dataset, sensitivity=sensitivity, rho=rho)"
   ]
  },
  {
   "cell_type": "code",
   "execution_count": 214,
   "id": "1b429168-7c32-494c-9218-cf19bb391956",
   "metadata": {},
   "outputs": [
    {
     "name": "stdout",
     "output_type": "stream",
     "text": [
      "Adult Dataset:\n",
      "Adult Epsilon-Delta Error: 1.019229774580398\n",
      "Adult Renyi Error: 0.035872593109371124\n",
      "Adult Zero-Concentrated Error: 0.16718887550697578\n",
      "Compas Dataset:\n",
      "COMPAS Epsilon-Delta Error: 3.1638765517494365\n",
      "COMPAS Renyi Error: 0.11317464039693387\n",
      "COMPAS Zero-Concentrated Error: 0.5808595005944569\n"
     ]
    }
   ],
   "source": [
    "epsilon = .01\n",
    "alpha = 5\n",
    "delta = 1e-5\n",
    "rho = .0001\n",
    "b_adult = 1\n",
    "b_compas = 1\n",
    "\n",
    "# Run Tests Here\n",
    "# Adult Dataset\n",
    "adult_real_results = int(adult['Age'].count())\n",
    "adult_rdp_results = [rdp_count(adult_real_results,sensitivity=b_adult,alpha=alpha,epsilon=epsilon) for _ in range(100)]\n",
    "adult_edp_results = [edp_count(adult_real_results,sensitivity=b_adult,epsilon=epsilon,delta=delta) for _ in range(100)]\n",
    "adult_zcdp_results = [zcdp_count(adult_real_results,sensitivity=b_adult,rho=rho) for _ in range(100)]\n",
    "\n",
    "adult_rdp_error = np.sum([pct_error(adult_real_results, result) for result in adult_rdp_results])/100\n",
    "adult_edp_error = np.sum([pct_error(adult_real_results, result) for result in adult_edp_results])/100\n",
    "adult_zcdp_error = np.sum([pct_error(adult_real_results, result) for result in adult_zcdp_results])/100\n",
    "\n",
    "# COMPAS Dataset\n",
    "compas_real_results = int(compas['age'].count())\n",
    "compas_edp_results = [edp_count(compas_real_results,sensitivity=b_compas,epsilon=epsilon,delta=delta) for _ in range(100)]\n",
    "compas_rdp_results = [rdp_count(compas_real_results,sensitivity=b_compas,alpha=alpha,epsilon=epsilon) for _ in range(100)]\n",
    "compas_zcdp_results = [zcdp_count(compas_real_results,sensitivity=b_compas,rho=rho) for _ in range(100)]\n",
    "\n",
    "compas_edp_error = np.sum([pct_error(compas_real_results, result) for result in compas_edp_results])/100\n",
    "compas_rdp_error = np.sum([pct_error(compas_real_results, result) for result in compas_rdp_results])/100\n",
    "compas_zcdp_error = np.sum([pct_error(compas_real_results, result) for result in compas_zcdp_results])/100\n",
    "\n",
    "print(\"Adult Dataset:\")\n",
    "print(\"Adult Epsilon-Delta Error:\",adult_edp_error)\n",
    "print(\"Adult Renyi Error:\",adult_rdp_error)\n",
    "print(\"Adult Zero-Concentrated Error:\",adult_zcdp_error)\n",
    "print(\"Compas Dataset:\")\n",
    "print(\"COMPAS Epsilon-Delta Error:\",compas_edp_error)\n",
    "print(\"COMPAS Renyi Error:\",compas_rdp_error)\n",
    "print(\"COMPAS Zero-Concentrated Error:\",compas_zcdp_error)"
   ]
  },
  {
   "cell_type": "markdown",
   "id": "2bc25ff3-6a1d-40a9-879a-fe8dc630ecdb",
   "metadata": {},
   "source": [
    "### Average"
   ]
  },
  {
   "cell_type": "code",
   "execution_count": 215,
   "id": "c545e4bb-8c69-460f-a83b-1f1adf8ae3ab",
   "metadata": {},
   "outputs": [],
   "source": [
    "def rdp_avg(dataset, sensitivity, alpha, epsilon):\n",
    "    clipped_data = dataset.clip(upper=sensitivity)\n",
    "    # add noise to sum query\n",
    "    noisy_sum = gaussian_mech_RDP(sum(clipped_data), sensitivity=sensitivity, alpha=alpha, epsilon=epsilon/2)\n",
    "    # add noise to count query\n",
    "    noisy_count = gaussian_mech_RDP(len(clipped_data),sensitivity=1,alpha=alpha,epsilon=epsilon/2)\n",
    "    return noisy_sum/noisy_count\n",
    "\n",
    "def edp_avg(dataset, sensitivity, epsilon, delta):\n",
    "    clipped_data = dataset.clip(upper=sensitivity)\n",
    "    # add noise to sum query\n",
    "    noisy_sum = gaussian_mech_EDP(sum(clipped_data), sensitivity=sensitivity, epsilon=epsilon/2, delta=delta)\n",
    "    # add noise to count query\n",
    "    noisy_count = gaussian_mech_EDP(len(clipped_data),sensitivity=1,epsilon=epsilon/2,delta=delta)\n",
    "    return noisy_sum/noisy_count\n",
    "\n",
    "def zcdp_avg(dataset, sensitivity, rho):\n",
    "    clipped_data = dataset.clip(upper=sensitivity)\n",
    "    # add noise to sum query\n",
    "    noisy_sum = gaussian_mech_zCDP(sum(clipped_data), sensitivity=sensitivity, rho=rho/2)\n",
    "    # add noise to count query\n",
    "    noisy_count = gaussian_mech_zCDP(len(clipped_data),sensitivity=1,rho=rho/2)\n",
    "    return noisy_sum/noisy_count"
   ]
  },
  {
   "cell_type": "code",
   "execution_count": 216,
   "id": "33b5a318-4993-4fc0-b830-e3efbaab36e0",
   "metadata": {},
   "outputs": [
    {
     "name": "stdout",
     "output_type": "stream",
     "text": [
      "Adult Dataset:\n",
      "Adult Epsilon-Delta Error: 7.208772004424101\n",
      "Adult Renyi Error: 0.13710057881312085\n",
      "Adult Zero-Concentrated Error: 0.6978544878224092\n",
      "Compas Dataset:\n",
      "COMPAS Epsilon-Delta Error: 19.528874414409824\n",
      "COMPAS Renyi Error: 0.5278996629715896\n",
      "COMPAS Zero-Concentrated Error: 2.3761287400776685\n"
     ]
    }
   ],
   "source": [
    "epsilon = .01\n",
    "alpha = 5\n",
    "delta = 1e-5\n",
    "rho = .0001\n",
    "b_adult = 100\n",
    "b_compas = 100\n",
    "\n",
    "# Run Tests Here\n",
    "# Adult Dataset\n",
    "adult_real_results = adult['Age'].sum() / adult['Age'].count()\n",
    "adult_edp_results = [edp_avg(adult['Age'],sensitivity=b_adult,epsilon=epsilon,delta=delta) for _ in range(100)]\n",
    "adult_rdp_results = [rdp_avg(adult['Age'],sensitivity=b_adult,alpha=alpha,epsilon=epsilon) for _ in range(100)]\n",
    "adult_zcdp_results = [zcdp_avg(adult['Age'],sensitivity=b_adult,rho=rho) for _ in range(100)]\n",
    "\n",
    "# COMPAS Dataset\n",
    "compas_real_results = compas['age'].sum() / compas['age'].count()\n",
    "compas_edp_results = [edp_avg(compas['age'],sensitivity=b_compas,epsilon=epsilon,delta=delta) for _ in range(100)]\n",
    "compas_rdp_results = [rdp_avg(compas['age'],sensitivity=b_compas,alpha=alpha,epsilon=epsilon) for _ in range(100)]\n",
    "compas_zcdp_results = [zcdp_avg(compas['age'],sensitivity=b_compas,rho=rho) for _ in range(100)]\n",
    "\n",
    "\n",
    "# Error Results\n",
    "adult_edp_error = np.sum([pct_error(adult_real_results, result) for result in adult_edp_results])/100\n",
    "adult_rdp_error = np.sum([pct_error(adult_real_results, result) for result in adult_rdp_results])/100\n",
    "adult_zcdp_error = np.sum([pct_error(adult_real_results, result) for result in adult_zcdp_results])/100\n",
    "compas_edp_error = np.sum([pct_error(compas_real_results, result) for result in compas_edp_results])/100\n",
    "compas_rdp_error = np.sum([pct_error(compas_real_results, result) for result in compas_rdp_results])/100\n",
    "compas_zcdp_error = np.sum([pct_error(compas_real_results, result) for result in compas_zcdp_results])/100\n",
    "\n",
    "print(\"Adult Dataset:\")\n",
    "print(\"Adult Epsilon-Delta Error:\",adult_edp_error)\n",
    "print(\"Adult Renyi Error:\",adult_rdp_error)\n",
    "print(\"Adult Zero-Concentrated Error:\",adult_zcdp_error)\n",
    "print(\"Compas Dataset:\")\n",
    "print(\"COMPAS Epsilon-Delta Error:\",compas_edp_error)\n",
    "print(\"COMPAS Renyi Error:\",compas_rdp_error)\n",
    "print(\"COMPAS Zero-Concentrated Error:\",compas_zcdp_error)"
   ]
  },
  {
   "cell_type": "code",
   "execution_count": 217,
   "id": "cf696da0-acad-4a91-9729-7735027761b4",
   "metadata": {},
   "outputs": [],
   "source": [
    "# decile_score includes ALL of the recorded risk scores\n",
    "# v_decile_score is just violent risk scores\n",
    "# plt.hist(compas['decile_score'], bins=10)"
   ]
  },
  {
   "cell_type": "markdown",
   "id": "187f8b48-d042-4c1d-b8a6-5593d533c31d",
   "metadata": {},
   "source": [
    "# Synthetic Representations"
   ]
  },
  {
   "cell_type": "markdown",
   "id": "80af8521-7dfc-4209-80c5-c9107084e5a6",
   "metadata": {},
   "source": [
    "Creating a synthetic representation used to create synthetic data for testing"
   ]
  },
  {
   "cell_type": "code",
   "execution_count": 218,
   "id": "983a0e8c-b6ac-4dc4-a39b-7bb491f77e95",
   "metadata": {},
   "outputs": [],
   "source": [
    "# Getting a synthetic representation of the overall decile_score data\n",
    "def noisy_score_hist(dataset, sensitivity, epsilon):\n",
    "    hist = dataset.value_counts()\n",
    "    # Parallel composition applies because it is a histogram\n",
    "    return hist.apply(lambda x: laplace_mech(x, sensitivity, epsilon))"
   ]
  },
  {
   "cell_type": "code",
   "execution_count": 219,
   "id": "cc26c540-ec45-4b5f-bb2d-f89a4b9703d9",
   "metadata": {},
   "outputs": [
    {
     "data": {
      "text/plain": [
       "(array([  14., 2401., 1472., 1179., 1132.,  972.,  930.,  843.,  750.,\n",
       "        1308.]),\n",
       " array([-1. ,  0.1,  1.2,  2.3,  3.4,  4.5,  5.6,  6.7,  7.8,  8.9, 10. ]),\n",
       " <BarContainer object of 10 artists>)"
      ]
     },
     "execution_count": 219,
     "metadata": {},
     "output_type": "execute_result"
    },
    {
     "data": {
      "image/png": "[encoded data removed]",
      "text/plain": [
       "<Figure size 640x480 with 1 Axes>"
      ]
     },
     "metadata": {},
     "output_type": "display_data"
    }
   ],
   "source": [
    "# Line representing synthetic rep.\n",
    "plt.plot(noisy_score_hist(compas['decile_score'], 1, 1.0).sort_index());\n",
    "# Actual data\n",
    "plt.hist(compas['decile_score'], bins=10)"
   ]
  },
  {
   "cell_type": "code",
   "execution_count": 220,
   "id": "d175d4cd-0088-4f91-968e-7e390afc6921",
   "metadata": {},
   "outputs": [],
   "source": [
    "# Create a one-way marginal based on any column in the compas dataset\n",
    "def dp_one_way_marginal(dataset, col, sensitivity, epsilon):\n",
    "    hist = dataset[col].value_counts()\n",
    "    hist = hist.apply(lambda x: laplace_mech(x, sensitivity, epsilon))\n",
    "    \n",
    "    syn_rep = hist\n",
    "    syn_rep_nonzero = syn_rep.clip(lower=0)\n",
    "    syn_normalized = syn_rep_nonzero / syn_rep_nonzero.sum()\n",
    "    return syn_normalized #.to_frame(name='probability').reset_index()"
   ]
  },
  {
   "cell_type": "code",
   "execution_count": 221,
   "id": "b149a6f2-47cb-4015-bfaf-12871f703a6b",
   "metadata": {},
   "outputs": [
    {
     "data": {
      "text/html": [
       "<div>\n",
       "<style scoped>\n",
       "    .dataframe tbody tr th:only-of-type {\n",
       "        vertical-align: middle;\n",
       "    }\n",
       "\n",
       "    .dataframe tbody tr th {\n",
       "        vertical-align: top;\n",
       "    }\n",
       "\n",
       "    .dataframe thead th {\n",
       "        text-align: right;\n",
       "    }\n",
       "</style>\n",
       "<table border=\"1\" class=\"dataframe\">\n",
       "  <thead>\n",
       "    <tr style=\"text-align: right;\">\n",
       "      <th></th>\n",
       "      <th>decile_score</th>\n",
       "      <th>count</th>\n",
       "    </tr>\n",
       "  </thead>\n",
       "  <tbody>\n",
       "    <tr>\n",
       "      <th>0</th>\n",
       "      <td>1</td>\n",
       "      <td>0.218458</td>\n",
       "    </tr>\n",
       "    <tr>\n",
       "      <th>1</th>\n",
       "      <td>2</td>\n",
       "      <td>0.133827</td>\n",
       "    </tr>\n",
       "    <tr>\n",
       "      <th>2</th>\n",
       "      <td>3</td>\n",
       "      <td>0.107088</td>\n",
       "    </tr>\n",
       "    <tr>\n",
       "      <th>3</th>\n",
       "      <td>4</td>\n",
       "      <td>0.103078</td>\n",
       "    </tr>\n",
       "    <tr>\n",
       "      <th>4</th>\n",
       "      <td>5</td>\n",
       "      <td>0.088118</td>\n",
       "    </tr>\n",
       "    <tr>\n",
       "      <th>5</th>\n",
       "      <td>6</td>\n",
       "      <td>0.084654</td>\n",
       "    </tr>\n",
       "    <tr>\n",
       "      <th>6</th>\n",
       "      <td>7</td>\n",
       "      <td>0.076570</td>\n",
       "    </tr>\n",
       "    <tr>\n",
       "      <th>7</th>\n",
       "      <td>8</td>\n",
       "      <td>0.068029</td>\n",
       "    </tr>\n",
       "    <tr>\n",
       "      <th>8</th>\n",
       "      <td>9</td>\n",
       "      <td>0.067718</td>\n",
       "    </tr>\n",
       "    <tr>\n",
       "      <th>9</th>\n",
       "      <td>10</td>\n",
       "      <td>0.051161</td>\n",
       "    </tr>\n",
       "    <tr>\n",
       "      <th>10</th>\n",
       "      <td>-1</td>\n",
       "      <td>0.001300</td>\n",
       "    </tr>\n",
       "  </tbody>\n",
       "</table>\n",
       "</div>"
      ],
      "text/plain": [
       "    decile_score     count\n",
       "0              1  0.218458\n",
       "1              2  0.133827\n",
       "2              3  0.107088\n",
       "3              4  0.103078\n",
       "4              5  0.088118\n",
       "5              6  0.084654\n",
       "6              7  0.076570\n",
       "7              8  0.068029\n",
       "8              9  0.067718\n",
       "9             10  0.051161\n",
       "10            -1  0.001300"
      ]
     },
     "execution_count": 221,
     "metadata": {},
     "output_type": "execute_result"
    }
   ],
   "source": [
    "# Set sensitivity = 1 because people can only have one row in our dataset after pre-processing\n",
    "dp_one_way_marginal(compas, 'decile_score', 1, 1.0).to_frame().reset_index()"
   ]
  },
  {
   "cell_type": "code",
   "execution_count": 222,
   "id": "c707ae30-2f05-4d30-81ee-63ad2153a503",
   "metadata": {},
   "outputs": [
    {
     "name": "stdout",
     "output_type": "stream",
     "text": [
      "    Percent Error\n",
      "0        0.000000\n",
      "1        3.831737\n",
      "2        1.562500\n",
      "3        1.865988\n",
      "4        2.296820\n",
      "5        3.292181\n",
      "6        5.591398\n",
      "7        2.135231\n",
      "8        0.400000\n",
      "9        2.150538\n",
      "10       0.354610\n"
     ]
    }
   ],
   "source": [
    "# Find how accurate the synthetic data is to the random subset\n",
    "# Use percent error\n",
    "\n",
    "syn_decile_score_counts = syn_data['decile_score'].value_counts().to_dict()\n",
    "real_decile_score_counts = real_vals_decile.value_counts().to_dict()\n",
    "\n",
    "# syn_decile_score_counts = sorted(syn_decile_score_counts.items())\n",
    "# print(dict(sorted(syn_decile_score_counts.items())))\n",
    "syn_decile_score_counts = dict(sorted(syn_decile_score_counts.items()))\n",
    "# print(syn_decile_score_counts[0][1])\n",
    "# print(dict(sorted(real_decile_score_counts.items())))\n",
    "real_decile_score_counts = dict(sorted(real_decile_score_counts.items()))\n",
    "\n",
    "# store the difference values for each column\n",
    "difference_vals = [real-syn for syn,real in zip(syn_decile_score_counts.values(),real_decile_score_counts.values())]\n",
    "# print(difference_vals)\n",
    "\n",
    "percent_err_per_col = [pct_error(real,syn) for syn,real in zip(syn_decile_score_counts.values(),real_decile_score_counts.values())]\n",
    "print(pd.DataFrame(percent_err_per_col, columns={'Percent Error':1}))"
   ]
  },
  {
   "cell_type": "code",
   "execution_count": 223,
   "id": "4fa94dba-e577-46da-a35d-f04b9a49d38d",
   "metadata": {},
   "outputs": [],
   "source": [
    "# Create two-way marginal between race and decile score\n",
    "def dp_two_marginal(dataset, col1, col2, sensitivity, epsilon):\n",
    "    hist = dataset[[col1, col2]].value_counts()\n",
    "    hist = hist.apply(lambda x: laplace_mech(x, sensitivity, epsilon))\n",
    "\n",
    "    syn_rep = hist\n",
    "    syn_rep_nonzero = syn_rep.clip(lower=0)\n",
    "    syn_normalized = syn_rep_nonzero / syn_rep_nonzero.sum()\n",
    "    syn_normalized = syn_normalized.to_frame().reset_index()\n",
    "    return syn_normalized.rename(columns={'count':'probability'})\n",
    "\n",
    "syn_rep_race = dp_two_marginal(compas, 'race', 'decile_score', 1, 1.0)"
   ]
  },
  {
   "cell_type": "code",
   "execution_count": 224,
   "id": "2584a49a-a1b3-403b-a35b-91305550e7bc",
   "metadata": {},
   "outputs": [],
   "source": [
    "def gen_conditional(col, col2, m1_val, m2):\n",
    "    conditioned_dist = m2[m2[col]==m1_val]\n",
    "    return conditioned_dist.sample(n=1, weights='probability')[col2].iloc[0]\n",
    "    \n",
    "def dp_synthetic_data_two_marginal(dataset, n, epsilon):\n",
    "    # Race & Decile Score 2-way\n",
    "    # Generate 1-way marginal for race\n",
    "    m1 = dp_one_way_marginal(dataset, 'race', 1, epsilon/2)\n",
    "    m1 = m1.to_frame(name='probability').reset_index()\n",
    "    \n",
    "    # Generate 2-way marginal for race, decile_score\n",
    "    m2 = dp_two_marginal(compas, 'race', 'decile_score', 1, epsilon/2)\n",
    "\n",
    "    # Create race sampling\n",
    "    race_sampled = m1.sample(n=n, replace=True, weights='probability')[['race']]\n",
    "    \n",
    "    race_decile = race_sampled\n",
    "    # Generate occupations conditioned on race using gen_conditional\n",
    "    race_decile['decile_score'] = [gen_conditional('race', 'decile_score', race, m2) for race in race_decile['race']]\n",
    "\n",
    "    return race_decile\n",
    "    \n",
    "syn_data_race = dp_synthetic_data_two_marginal(compas, len(compas), 1.0)"
   ]
  },
  {
   "cell_type": "code",
   "execution_count": 225,
   "id": "292e2204-0d25-4b91-897d-133e78a00636",
   "metadata": {},
   "outputs": [
    {
     "data": {
      "image/png": "[encoded data removed]",
      "text/plain": [
       "<Figure size 600x800 with 6 Axes>"
      ]
     },
     "metadata": {},
     "output_type": "display_data"
    }
   ],
   "source": [
    "# Create plots for each race and their decile scores\n",
    "\n",
    "races = syn_data_race['race'].unique()\n",
    "fig, ((ax0, ax1), (ax2, ax3), (ax4, ax5)) = plt.subplots(nrows=3, ncols=2, figsize=(6, 8))\n",
    "\n",
    "ax0.hist(syn_data_race[syn_data_race['race'] == races[0]]['decile_score'], 10)\n",
    "# ax0.hist(compas[compas['race'] == races[0]]['decile_score'], 10, alpha=0.3)\n",
    "ax0.set_title(races[0])\n",
    "\n",
    "ax1.hist(syn_data_race[syn_data_race['race'] == races[1]]['decile_score'], 10)\n",
    "# ax1.hist(compas[compas['race'] == races[1]]['decile_score'], 10, alpha=0.3)\n",
    "ax1.set_title(races[1])\n",
    "\n",
    "ax2.hist(syn_data_race[syn_data_race['race'] == races[2]]['decile_score'], 10)\n",
    "# ax2.hist(compas[compas['race'] == races[2]]['decile_score'], 10, alpha=0.3)\n",
    "ax2.set_title(races[2])\n",
    "\n",
    "ax3.hist(syn_data_race[syn_data_race['race'] == races[3]]['decile_score'], 10)\n",
    "# ax3.hist(compas[compas['race'] == races[3]]['decile_score'], 10, alpha=0.3)\n",
    "ax3.set_title(races[3])\n",
    "\n",
    "ax4.hist(syn_data_race[syn_data_race['race'] == races[4]]['decile_score'], 10)\n",
    "# ax4.hist(compas[compas['race'] == races[4]]['decile_score'], 10, alpha=0.3)\n",
    "ax4.set_title(races[4])\n",
    "\n",
    "ax5.hist(syn_data_race[syn_data_race['race'] == races[5]]['decile_score'], 10)\n",
    "# ax5.hist(compas[compas['race'] == races[5]]['decile_score'], 10, alpha=0.3)\n",
    "ax5.set_title(races[5])\n",
    "\n",
    "fig.tight_layout()\n",
    "plt.show()"
   ]
  },
  {
   "cell_type": "markdown",
   "id": "e373a8dc-59f9-494d-a248-a0cef876c591",
   "metadata": {},
   "source": [
    "Focusing in on the African-American and Caucasian decile scores, we see that in our synthetic data that African-American defendants tend to have decile scores that are larger overall, while Caucasian decile scores tend to trend downwards."
   ]
  },
  {
   "cell_type": "code",
   "execution_count": 226,
   "id": "4a0b39d0-31bf-4b8c-873d-889f05c6c35f",
   "metadata": {},
   "outputs": [
    {
     "data": {
      "image/png": "[encoded data removed]",
      "text/plain": [
       "<Figure size 600x300 with 2 Axes>"
      ]
     },
     "metadata": {},
     "output_type": "display_data"
    }
   ],
   "source": [
    "fig, ((ax0, ax1)) = plt.subplots(nrows=1, ncols=2, figsize=(6, 3))\n",
    "\n",
    "ax0.hist(syn_data_race[syn_data_race['race'] == 'African-American']['decile_score'], 10)\n",
    "# ax0.hist(compas[compas['race'] == races[0]]['decile_score'], 10, alpha=0.3)\n",
    "ax0.set_title('African-American')\n",
    "\n",
    "ax1.hist(syn_data_race[syn_data_race['race'] == 'Caucasian']['decile_score'], 10)\n",
    "# ax1.hist(compas[compas['race'] == races[1]]['decile_score'], 10, alpha=0.3)\n",
    "ax1.set_title('Caucasian')\n",
    "\n",
    "fig.tight_layout()\n",
    "plt.show()"
   ]
  }
 ],
 "metadata": {
  "kernelspec": {
   "display_name": "Python 3 (ipykernel)",
   "language": "python",
   "name": "python3"
  },
  "language_info": {
   "codemirror_mode": {
    "name": "ipython",
    "version": 3
   },
   "file_extension": ".py",
   "mimetype": "text/x-python",
   "name": "python",
   "nbconvert_exporter": "python",
   "pygments_lexer": "ipython3",
   "version": "3.9.19"
  }
 },
 "nbformat": 4,
 "nbformat_minor": 5
}
