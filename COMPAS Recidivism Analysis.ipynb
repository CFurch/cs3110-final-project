{
 "cells": [
  {
   "cell_type": "code",
   "execution_count": 15,
   "id": "f9c6a3fd-62f1-468f-bb79-846914bbdddb",
   "metadata": {},
   "outputs": [],
   "source": [
    "import pandas as pd\n",
    "import numpy as np\n",
    "import matplotlib.pyplot as plt\n",
    "        \n",
    "compas = pd.read_csv('cox-violent-parsed.csv')\n",
    "adult = pd.read_csv('adult_with_pii.csv')\n",
    "\n",
    "for i in range(11001, len(compas)):\n",
    "    compas.iloc[i, 0] = i+1"
   ]
  },
  {
   "cell_type": "markdown",
   "id": "0297bd00-6681-4363-a18c-c0853160d43d",
   "metadata": {},
   "source": [
    "# Alternative DP Definitions\n",
    "The cells below compare the accuracy results of the following differentially private algorithms across the adult and COMPAS datasets."
   ]
  },
  {
   "cell_type": "markdown",
   "id": "e0d839ad-d693-4028-a756-1ea2e46dd00c",
   "metadata": {},
   "source": [
    "## Renyi-Differential Privacy, Zero-Concentrated Differential Privacy, and Epsilon Delta Differential Privacy"
   ]
  },
  {
   "cell_type": "code",
   "execution_count": 101,
   "id": "20c5b246-a59d-4674-b46b-4f377d87aac8",
   "metadata": {},
   "outputs": [],
   "source": [
    "# Renyi-Differential Privacy Algorithm\n",
    "# credit to Joe Near for python implementation\n",
    "def gaussian_mech_RDP(val, sensitivity, alpha, epsilon):\n",
    "    sigma = np.sqrt((sensitivity**2 * alpha) / (2 * epsilon))\n",
    "    return val + np.random.normal(loc=0, scale=sigma)\n",
    "\n",
    "# Epsilon-Delta Algorithm\n",
    "def gaussian_mech_EPD(val, sensitivity, epsilon, delta):\n",
    "    return val + np.random.normal(loc=0, scale=sensitivity * np.sqrt(2*np.log(1.25/delta)) / epsilon)\n",
    "\n",
    "# zero-Concentrated Algorithm\n",
    "def gaussian_mech_zCDP(val, sensitivity, rho):\n",
    "    sigma = np.sqrt((sensitivity**2 / (2*rho)))\n",
    "    return val + np.random.normal(loc=0, scale=sigma)\n",
    "\n",
    "# RDP Vector Implementation\n",
    "def gaussian_mech_vec_RDP(vec, sensitivity, alpha, epsilon):\n",
    "    return [gaussian_mech_RDP(v, sensitivity=sensitivity, alpha=alpha, epsilon=epsilon/len(vec)) for v in vec]\n",
    "\n",
    "# RDP Epsilon -> Epsilon Delta Epsilon\n",
    "def rdp_convert(alpha, epsilon_bar, delta):\n",
    "    return epsilon_bar + np.log(1/delta) / (alpha-1)\n",
    "\n",
    "# zCDP Convert -> Epsilon Delta Epsilon\n",
    "def zcdp_convert(rho, delta):\n",
    "    return rho + 2 * np.sqrt(rho * np.log(1/delta))"
   ]
  },
  {
   "cell_type": "markdown",
   "id": "f35cbd5e-8cd0-4645-9595-e635808ca49c",
   "metadata": {},
   "source": [
    "### Summation"
   ]
  },
  {
   "cell_type": "code",
   "execution_count": 110,
   "id": "850d9c7c-6d99-44ef-81cd-b33012b53f49",
   "metadata": {},
   "outputs": [],
   "source": [
    "def rdp_sum_age(dataset, sensitivity, alpha, epsilon):\n",
    "    # clip the ages column\n",
    "    clipped_data = dataset.clip(upper=100)\n",
    "    # run the query and return the result\n",
    "    return gaussian_mech_RDP(sum(clipped_data), sensitivity=sensitivity, alpha=alpha, epsilon=epsilon)\n",
    "\n",
    "def edp_sum_age(dataset, sensitivity, epsilon, delta):\n",
    "    clipped_data = dataset.clip(upper=100)\n",
    "    # run the query and return the result\n",
    "    return gaussian_mech_EPD(sum(clipped_data), sensitivity=sensitivity, epsilon=epsilon, delta=delta)\n",
    "\n",
    "def zcdp_sum_age(dataset, sensitivity, rho):\n",
    "    # clip the ages column\n",
    "    clipped_data = dataset.set(upper=sensitivity)\n",
    "    # run the query and return the result\n",
    "    return gaussian_mech_zCDP(sum(clipped_data), sensitivity=sensitivity, rho=rho)"
   ]
  },
  {
   "cell_type": "code",
   "execution_count": 114,
   "id": "a625bc19-c514-4834-a2c9-5181b680fc6c",
   "metadata": {},
   "outputs": [],
   "source": [
    "epsilon = .01\n",
    "alpha = 5\n",
    "delta = 1e-5\n",
    "rho = .0001\n",
    "b = 100\n",
    "#epsilon_delta = rdp_convert(alpha, epsilon, delta)\n",
    "\n",
    "# Run Tests Here\n",
    "# Adult Dataset\n",
    "adult_edp_results = [edp_sum_age(adult['Age'],sensitivity=b,epsilon=epsilon,delta=delta) for _ in range(100)]\n",
    "adult_rdp_results = [rdp_sum_age(adult['Age'],sensitivity=b,alpha=alpha,epsilon=epsilon) for _ in range(100)]\n",
    "\n",
    "\n",
    "# COMPAS Dataset\n",
    "\n"
   ]
  },
  {
   "cell_type": "markdown",
   "id": "353b608c-3ef0-434f-b00a-1a9ffc3a1845",
   "metadata": {},
   "source": [
    "### Count"
   ]
  },
  {
   "cell_type": "code",
   "execution_count": null,
   "id": "d12c2f85-ddbd-4a67-89e3-7cd7ff11a2e7",
   "metadata": {},
   "outputs": [],
   "source": [
    "def rdp"
   ]
  },
  {
   "cell_type": "markdown",
   "id": "ec5e82ca-d0c5-4e1f-8543-ebff113fcb1f",
   "metadata": {},
   "source": [
    "### Average"
   ]
  },
  {
   "cell_type": "markdown",
   "id": "b3888845-faee-4453-9540-b85c7931e014",
   "metadata": {},
   "source": [
    "## Zero-Concentrated Differential Privacy"
   ]
  },
  {
   "cell_type": "markdown",
   "id": "0cfd895e-55a3-4951-a0c4-5675a04bfbe9",
   "metadata": {},
   "source": [
    "### Summation"
   ]
  },
  {
   "cell_type": "code",
   "execution_count": null,
   "id": "09aa92e4-1870-43fd-b797-33e64b39a4eb",
   "metadata": {},
   "outputs": [],
   "source": []
  }
 ],
 "metadata": {
  "kernelspec": {
   "display_name": "Python 3 (ipykernel)",
   "language": "python",
   "name": "python3"
  },
  "language_info": {
   "codemirror_mode": {
    "name": "ipython",
    "version": 3
   },
   "file_extension": ".py",
   "mimetype": "text/x-python",
   "name": "python",
   "nbconvert_exporter": "python",
   "pygments_lexer": "ipython3",
   "version": "3.12.3"
  }
 },
 "nbformat": 4,
 "nbformat_minor": 5
}
